{
 "cells": [
  {
   "cell_type": "markdown",
   "id": "10081290-f451-478d-84c3-76baf170e62a",
   "metadata": {},
   "source": [
    "# Benchmark Dynast's metabolic labeling quantification\n",
    "\n",
    "This notebook will benchmark Dynast's runtime, memory usage and storage usage against those of the [scNT-seq pipeline](https://github.com/wulabupenn/scNT-seq). Note that several changes were necessary to the scNT-seq pipeline due to inherent bugs and outdated dependencies. The version used for this study can be found [here](https://github.com/Lioscro/scNT-seq)."
   ]
  },
  {
   "cell_type": "code",
   "execution_count": 717,
   "id": "3a644b3d-1d23-4276-beef-5cca9035b8bd",
   "metadata": {},
   "outputs": [],
   "source": [
    "import glob\n",
    "import os\n",
    "import re\n",
    "import time\n",
    "\n",
    "import anndata\n",
    "import matplotlib.pyplot as plt\n",
    "import numpy as np\n",
    "import pandas as pd\n",
    "import seaborn as sns\n",
    "from matplotlib.patches import Patch\n",
    "\n",
    "plt.style.use('../figures.mplstyle')\n",
    "%matplotlib inline\n",
    "%config InlineBackend.figure_format = 'retina'"
   ]
  },
  {
   "cell_type": "markdown",
   "id": "9ad3a3a4-3a97-4cf7-9697-5efef7a84d52",
   "metadata": {},
   "source": [
    "## Load the data\n",
    "\n",
    "Load the runtime and memory usage from those recorded using `time`. Storage is calculated by adding the sizes of all the files (exclusing the `time` output)."
   ]
  },
  {
   "cell_type": "code",
   "execution_count": 508,
   "id": "1dc4d540-ef09-4c74-96bc-b1a18e1f3eda",
   "metadata": {
    "tags": []
   },
   "outputs": [
    {
     "name": "stdout",
     "output_type": "stream",
     "text": [
      "dynast/SRR12225122/align...OK\n",
      "dynast/SRR12225122/consensus...OK\n",
      "dynast/SRR12225122/consensus_filter...OK\n",
      "dynast/SRR12225122/count...OK\n",
      "dynast/SRR12225122/count_filter...OK\n",
      "dynast/SRR11683967/align...OK\n",
      "dynast/SRR11683967/consensus...OK\n",
      "dynast/SRR11683967/consensus_filter...OK\n",
      "dynast/SRR11683967/count...OK\n",
      "dynast/SRR11683967/count_filter...OK\n",
      "dynast/SRR11683968/align...OK\n",
      "dynast/SRR11683968/consensus...OK\n",
      "dynast/SRR11683968/consensus_filter...OK\n",
      "dynast/SRR11683968/count...OK\n",
      "dynast/SRR11683968/count_filter...OK\n",
      "dynast/SRR11683969/align...OK\n",
      "dynast/SRR11683969/consensus...OK\n",
      "dynast/SRR11683969/consensus_filter...OK\n",
      "dynast/SRR11683969/count...OK\n",
      "dynast/SRR11683969/count_filter...OK\n",
      "dynast/SRR11683970/align...OK\n",
      "dynast/SRR11683970/consensus...OK\n",
      "dynast/SRR11683970/consensus_filter...OK\n",
      "dynast/SRR11683970/count...OK\n",
      "dynast/SRR11683970/count_filter...OK\n",
      "dynast/SRR11683971/align...OK\n",
      "dynast/SRR11683971/consensus...OK\n",
      "dynast/SRR11683971/consensus_filter...OK\n",
      "dynast/SRR11683971/count...OK\n",
      "dynast/SRR11683971/count_filter...OK\n",
      "scNT/SRR12225122/Step1...OK\n",
      "scNT/SRR12225122/Step2...OK\n",
      "scNT/SRR11683967/Step1...OK\n",
      "scNT/SRR11683967/Step2...OK\n",
      "scNT/SRR11683967/Step3...OK\n",
      "scNT/SRR11683967/Step4...OK\n",
      "scNT/SRR11683968/Step1...OK\n",
      "scNT/SRR11683968/Step2...OK\n",
      "scNT/SRR11683968/Step3...OK\n",
      "scNT/SRR11683968/Step4...OK\n",
      "scNT/SRR11683969/Step1...OK\n",
      "scNT/SRR11683969/Step2...OK\n",
      "scNT/SRR11683969/Step3...OK\n",
      "scNT/SRR11683969/Step4...OK\n",
      "scNT/SRR11683970/Step1...OK\n",
      "scNT/SRR11683970/Step2...OK\n",
      "scNT/SRR11683970/Step3...OK\n",
      "scNT/SRR11683970/Step4...OK\n",
      "scNT/SRR11683971/Step1...OK\n",
      "scNT/SRR11683971/Step2...OK\n",
      "scNT/SRR11683971/Step3...OK\n",
      "scNT/SRR11683971/Step4...OK\n"
     ]
    }
   ],
   "source": [
    "with open('data/accessions.txt', 'r') as f:\n",
    "    accessions = [line.strip() for line in f]\n",
    "control_accession = accessions[0]\n",
    "sample_accessions = accessions[1:]\n",
    "\n",
    "def time_to_seconds(t):\n",
    "    seconds = 0\n",
    "    for i, value in enumerate(t.split(':')[::-1]):\n",
    "        seconds += float(value) * (60 ** i)\n",
    "    return seconds\n",
    "\n",
    "def parse_time(out):\n",
    "    groups = re.search(\n",
    "        'Elapsed \\(wall clock\\) time \\(h:mm:ss or m:ss\\): (?P<runtime>[0-9:\\.]+)'\n",
    "        '.*?'\n",
    "        'Maximum resident set size \\(kbytes\\): (?P<memory>[0-9]+)',\n",
    "        out, re.DOTALL\n",
    "    ).groupdict()\n",
    "    return time_to_seconds(groups['runtime']), int(groups['memory']) * 1024\n",
    "\n",
    "def read_results(out_dir, pipeline):\n",
    "    print(out_dir, end='...')\n",
    "    \n",
    "    try:\n",
    "        # NOTE: step can contain suffixes of the form _1, _2, ...\n",
    "        step = os.path.basename(out_dir)\n",
    "        search = re.search('_[0-9]+', step)\n",
    "        if search:\n",
    "            step = step[:search.start()]\n",
    "\n",
    "        time_path = f'{out_dir}/time.txt'\n",
    "\n",
    "        with open(time_path, 'r') as f:\n",
    "            runtime, memory = parse_time(f.read())\n",
    "\n",
    "        # Find path, exclusing time.txt\n",
    "        storage = 0\n",
    "        for dirpath, dirnames, filenames in os.walk(out_dir):\n",
    "            if '.ipynb_checkpoints' in dirpath:\n",
    "                continue\n",
    "            for filename in filenames:\n",
    "                if filename == 'time.txt':\n",
    "                    continue\n",
    "                path = os.path.join(dirpath, filename)\n",
    "                storage += os.path.getsize(path)\n",
    "                \n",
    "        print('OK')\n",
    "        return {\n",
    "            'pipeline': pipeline,\n",
    "            'accession': accession,\n",
    "            'step': step,\n",
    "            'runtime': runtime,\n",
    "            'memory': memory,\n",
    "            'storage': storage\n",
    "        }\n",
    "    except Exception as e:\n",
    "        print(e)\n",
    "\n",
    "# runtime in seconds\n",
    "# memory in bytes\n",
    "# storage in bytes\n",
    "results = pd.DataFrame(columns=['pipeline', 'accession', 'step', 'runtime', 'memory', 'storage'])\n",
    "\n",
    "# Dynast\n",
    "for accession in accessions:\n",
    "    for out_dir in sorted(glob.glob(f'dynast/{accession}/*')):\n",
    "        res = read_results(out_dir, 'dynast')\n",
    "        if res:\n",
    "            results.loc[len(results)] = res\n",
    "\n",
    "# scNT-seq pipeline\n",
    "for accession in accessions:\n",
    "    for out_dir in sorted(glob.glob(f'scNT/{accession}/*')):\n",
    "        # Don't consider anndata conversions for scNT.\n",
    "        if out_dir.endswith('adata'):\n",
    "            continue\n",
    "        \n",
    "        res = read_results(out_dir, 'scNT')\n",
    "        if res:\n",
    "            results.loc[len(results)] = res"
   ]
  },
  {
   "cell_type": "code",
   "execution_count": 783,
   "id": "6a9a7b1a-e6ea-4319-8065-8e8b1d15bfed",
   "metadata": {},
   "outputs": [],
   "source": [
    "accession_names = {\n",
    "    'SRR12225122': 'Control',\n",
    "    'SRR11683967': '0min',\n",
    "    'SRR11683968': '15min',\n",
    "    'SRR11683969': '30min',\n",
    "    'SRR11683970': '60min',\n",
    "    'SRR11683971': '120min'\n",
    "}"
   ]
  },
  {
   "cell_type": "markdown",
   "id": "246b1aae-32e6-4ea2-9911-845b3c3c36b4",
   "metadata": {},
   "source": [
    "## Comparisons\n",
    "\n",
    "Compare the two pipelines."
   ]
  },
  {
   "cell_type": "markdown",
   "id": "1e51a486-76a6-4665-b0d6-2f6b7996f910",
   "metadata": {
    "tags": []
   },
   "source": [
    "### Runtime\n",
    "\n",
    "Compare the runtimes for each step and accession."
   ]
  },
  {
   "cell_type": "code",
   "execution_count": 794,
   "id": "82289821-393d-470a-bd18-98cae1a690d6",
   "metadata": {
    "tags": []
   },
   "outputs": [
    {
     "data": {
      "image/png": "[encoded data removed]",
      "text/plain": [
       "<Figure size 468x181.44 with 6 Axes>"
      ]
     },
     "metadata": {
      "image/png": {
       "height": 180,
       "width": 468
      },
      "needs_background": "light"
     },
     "output_type": "display_data"
    }
   ],
   "source": [
    "def plot_stacked_runtimes(results, label, i, order, width, ax, **kwargs):\n",
    "    results = results[results['step'].isin(order)].copy()\n",
    "    results['step'] = results['step'].astype(\n",
    "        pd.CategoricalDtype(categories=order, ordered=True)\n",
    "    )\n",
    "    results['runtime'] = results['runtime'] / 3600\n",
    "    \n",
    "    min_runtime = 0\n",
    "    max_runtime = 0\n",
    "    \n",
    "    height = 0\n",
    "    for step, part in results.groupby('step'):\n",
    "        min_runtime += part['runtime'].min()\n",
    "        max_runtime += part['runtime'].max()\n",
    "        \n",
    "        mean = np.mean(part['runtime'])\n",
    "        if step == order[-1]:\n",
    "            err_low = (height + mean) - min_runtime\n",
    "            err_high = max_runtime - (height + mean)\n",
    "            ax.barh([label], [mean], width, xerr=[[err_low],[err_high]], left=[height], label=label, **kwargs)\n",
    "        else:\n",
    "            ax.barh([label], [mean], width, left=[height], label=label, **kwargs)\n",
    "        \n",
    "        # jitter = (np.random.random(part.shape[0]) * width) / 4\n",
    "        # ax.scatter(part['runtime'] + height, jitter + i, zorder=10, color='gray', alpha=0.8, s=5)\n",
    "        height += mean\n",
    "\n",
    "fig, axes = plt.subplots(figsize=(6.5, len(accessions) * 0.42), nrows=len(accessions), sharex=True, tight_layout=True)\n",
    "\n",
    "for ax, accession in zip(axes, accessions):\n",
    "    accession_results = results[results['accession'] == accession]\n",
    "    dynast_results = accession_results[(accession_results['pipeline'] == 'dynast')]\n",
    "    scNT_results = accession_results[(accession_results['pipeline'] == 'scNT')]\n",
    "    \n",
    "    scNT_steps = ['Step1', 'Step2']\n",
    "    if accession != control_accession:\n",
    "        scNT_steps.extend(['Step3', 'Step4'])\n",
    "    \n",
    "    plot_stacked_runtimes(\n",
    "        scNT_results, 'scNT', 0, scNT_steps, 1, ax,\n",
    "        color='darkorange'\n",
    "    )\n",
    "    plot_stacked_runtimes(\n",
    "        dynast_results, 'Dynast', 1, ['align', 'consensus', 'count'], 1, ax,\n",
    "        color='royalblue'\n",
    "    )\n",
    "    plot_stacked_runtimes(\n",
    "        dynast_results, 'Dynast (filtered)', 2, ['align', 'consensus_filter', 'count_filter'], 1, ax,\n",
    "        color='cornflowerblue'\n",
    "    )\n",
    "    \n",
    "    ylabel = accession_names[accession]\n",
    "    ax.set_ylabel(ylabel, rotation=0, ha='right', va='center')\n",
    "    ax.set_yticklabels([])\n",
    "    ax.set_yticks([])\n",
    "    ax.invert_yaxis()\n",
    "axes[-1].set_xlabel('Runtime (hrs)')\n",
    "# axes[0].legend()\n",
    "fig.legend(handles=[\n",
    "    Patch(facecolor='darkorange', label='scNT'),\n",
    "    Patch(facecolor='royalblue', label='Dynast'),\n",
    "    Patch(facecolor='cornflowerblue', label='*Dynast')\n",
    "])\n",
    "fig.supylabel('Sample', y=0.6)\n",
    "fig.savefig('figures/scNT_runtime.pdf', bbox_inches='tight')\n",
    "fig.savefig('figures/scNT_runtime.png', bbox_inches='tight', dpi=300)"
   ]
  },
  {
   "cell_type": "code",
   "execution_count": 754,
   "id": "5b644cf7-80d9-41e1-a629-93dc23ab9a8a",
   "metadata": {},
   "outputs": [],
   "source": [
    "scNT_runtimes = results[results['pipeline'] == 'scNT'].groupby('accession')['runtime'].sum()\n",
    "dynast_runtimes = results[\n",
    "    (results['pipeline'] == 'dynast') & (~results['step'].str.endswith('_filter'))\n",
    "].groupby('accession')['runtime'].sum()\n",
    "dynast_filter_runtimes = results[\n",
    "    (results['pipeline'] == 'dynast') & ((results['step'].str.endswith('_filter')) | (results['step'] == 'align'))\n",
    "].groupby('accession')['runtime'].sum()"
   ]
  },
  {
   "cell_type": "code",
   "execution_count": 763,
   "id": "5fdd5f60-0527-49d4-8e15-9c1bb580c39e",
   "metadata": {},
   "outputs": [
    {
     "name": "stdout",
     "output_type": "stream",
     "text": [
      "accession\n",
      "SRR11683967    68.923878\n",
      "SRR11683968    66.668688\n",
      "SRR11683969    63.721642\n",
      "SRR11683970    66.550884\n",
      "SRR11683971    68.512718\n",
      "SRR12225122    71.439288\n",
      "Name: runtime, dtype: float64\n",
      "Average speedup: 67.63618308662795\n"
     ]
    }
   ],
   "source": [
    "# Percent speedup\n",
    "speedup = (scNT_runtimes - dynast_runtimes) / scNT_runtimes * 100\n",
    "print(speedup)\n",
    "print(f'Average speedup: {speedup.mean()}')"
   ]
  },
  {
   "cell_type": "code",
   "execution_count": 764,
   "id": "8d49b63a-9825-42a6-8681-d55b92c4917b",
   "metadata": {},
   "outputs": [
    {
     "name": "stdout",
     "output_type": "stream",
     "text": [
      "accession\n",
      "SRR11683967    85.514829\n",
      "SRR11683968    83.254728\n",
      "SRR11683969    83.955338\n",
      "SRR11683970    83.033394\n",
      "SRR11683971    86.992753\n",
      "SRR12225122    80.548923\n",
      "Name: runtime, dtype: float64\n",
      "Average speedup: 83.88332735020222\n"
     ]
    }
   ],
   "source": [
    "# Percent speedup (filter\n",
    "speedup = (scNT_runtimes - dynast_filter_runtimes) / scNT_runtimes * 100\n",
    "print(speedup)\n",
    "print(f'Average speedup: {speedup.mean()}')"
   ]
  },
  {
   "cell_type": "markdown",
   "id": "51588077-7cc2-461e-a0b6-0d6703211132",
   "metadata": {},
   "source": [
    "### Memory\n",
    "\n",
    "Compare the maximum memory usage for each step and accession."
   ]
  },
  {
   "cell_type": "code",
   "execution_count": 795,
   "id": "662a2686-1b19-4e92-90eb-b29d576d643e",
   "metadata": {},
   "outputs": [
    {
     "data": {
      "image/png": "[encoded data removed]",
      "text/plain": [
       "<Figure size 468x288 with 12 Axes>"
      ]
     },
     "metadata": {
      "image/png": {
       "height": 277,
       "width": 460
      },
      "needs_background": "light"
     },
     "output_type": "display_data"
    }
   ],
   "source": [
    "def plot_pipeline_step_memory(results, order, ax, **kwargs):\n",
    "    results = results.copy()\n",
    "    results['step'] = results['step'].astype(\n",
    "        pd.CategoricalDtype(categories=order, ordered=True)\n",
    "    )\n",
    "    results['memory'] = results['memory'] / (1024 ** 3)\n",
    "    sns.barplot(data=results, y='step', x='memory', ax=ax, saturation=1, **kwargs)\n",
    "    \n",
    "fig, axes = plt.subplots(figsize=(6.5, 4), ncols=3, nrows=4, sharex=True, gridspec_kw={'height_ratios': [4.1, 5, 4.1, 5]}, tight_layout=True)\n",
    "for i, accession in enumerate(accessions):\n",
    "    accession_results = results[results['accession'] == accession]\n",
    "    dynast_results = accession_results[(accession_results['pipeline'] == 'dynast')]\n",
    "    scNT_results = accession_results[(accession_results['pipeline'] == 'scNT')]\n",
    "    \n",
    "    row = i // 3\n",
    "    col = i - (row * 3)\n",
    "    scNT_ax = axes[row * 2, col]\n",
    "    dynast_ax = axes[row * 2 + 1, col]\n",
    "    \n",
    "    plot_pipeline_step_memory(\n",
    "        scNT_results, ['Step1', 'Step2', 'Step3', 'Step4'], ax=scNT_ax, color='darkorange'\n",
    "    )\n",
    "    plot_pipeline_step_memory(\n",
    "        dynast_results,\n",
    "        ['align', 'consensus', 'count', 'consensus_filter', 'count_filter'],\n",
    "         ax=dynast_ax, color='royalblue'\n",
    "    )\n",
    "    scNT_ax.set_xlabel(None)\n",
    "    scNT_ax.set_ylabel(None)\n",
    "    # scNT_ax.set_yticks([])\n",
    "    scNT_ax.set_yticklabels([])\n",
    "    dynast_ax.set_xlabel(None)\n",
    "    dynast_ax.set_ylabel(None)\n",
    "    # dynast_ax.set_yticks([])\n",
    "    dynast_ax.set_yticklabels([])\n",
    "    \n",
    "    scNT_ax.set_title(accession_names[accession])\n",
    "\n",
    "for i, ax in enumerate(axes[:,0]):\n",
    "    if i % 2 == 0:\n",
    "        labels = ['Step1', 'Step2', 'Step3', 'Step4']\n",
    "    else:\n",
    "        labels = ['align', 'consensus', 'count', '*consensus', '*count']\n",
    "    ax.set_yticks(np.arange(len(labels)))\n",
    "    ax.set_yticklabels(labels, fontsize=8)\n",
    "\n",
    "fig.supxlabel('Maximum memory (GB)', x=0.55, y=0.05)\n",
    "fig.savefig('figures/scNT_memory.pdf', bbox_inches='tight')\n",
    "fig.savefig('figures/scNT_memory.png', bbox_inches='tight', dpi=300)"
   ]
  },
  {
   "cell_type": "markdown",
   "id": "465bceef-2b6c-4d13-a9a4-355fd8de8c1b",
   "metadata": {},
   "source": [
    "### Storage\n",
    "\n",
    "Compare the size of the output for each step and accession."
   ]
  },
  {
   "cell_type": "code",
   "execution_count": 796,
   "id": "f9b42513-bbaf-4f2d-b8b8-38c2e47511da",
   "metadata": {},
   "outputs": [
    {
     "data": {
      "image/png": "[encoded data removed]",
      "text/plain": [
       "<Figure size 468x181.44 with 6 Axes>"
      ]
     },
     "metadata": {
      "image/png": {
       "height": 180,
       "width": 468
      },
      "needs_background": "light"
     },
     "output_type": "display_data"
    }
   ],
   "source": [
    "def plot_stacked_storage(results, label, i, order, width, ax, **kwargs):\n",
    "    results = results[results['step'].isin(order)].copy()\n",
    "    results['step'] = results['step'].astype(\n",
    "        pd.CategoricalDtype(categories=order, ordered=True)\n",
    "    )\n",
    "    results['storage'] = results['storage'] / (1024 ** 3)\n",
    "    \n",
    "    height = 0\n",
    "    for step, part in results.groupby('step'):\n",
    "        mean = np.mean(part['storage'])\n",
    "        ax.barh([label], [mean], width, left=[height], label=label, **kwargs)\n",
    "        height += mean\n",
    "\n",
    "fig, axes = plt.subplots(figsize=(6.5, len(accessions) * 0.42), nrows=len(accessions), sharex=True, tight_layout=True)\n",
    "\n",
    "for ax, accession in zip(axes, accessions):\n",
    "    accession_results = results[results['accession'] == accession]\n",
    "    dynast_results = accession_results[(accession_results['pipeline'] == 'dynast')]\n",
    "    scNT_results = accession_results[(accession_results['pipeline'] == 'scNT')]\n",
    "    \n",
    "    scNT_steps = ['Step1', 'Step2']\n",
    "    if accession != control_accession:\n",
    "        scNT_steps.extend(['Step3', 'Step4'])\n",
    "    \n",
    "    plot_stacked_storage(\n",
    "        scNT_results, 'scNT', 0, scNT_steps, 1, ax,\n",
    "        color='darkorange'\n",
    "    )\n",
    "    plot_stacked_storage(\n",
    "        dynast_results, 'Dynast', 1, ['align', 'consensus', 'count'], 1, ax,\n",
    "        color='royalblue'\n",
    "    )\n",
    "    plot_stacked_storage(\n",
    "        dynast_results, 'Dynast (filtered)', 2, ['align', 'consensus_filter', 'count_filter'], 1, ax,\n",
    "        color='cornflowerblue'\n",
    "    )\n",
    "    \n",
    "    ylabel = accession_names[accession]\n",
    "    ax.set_ylabel(ylabel, rotation=0, ha='right', va='center')\n",
    "    ax.set_yticklabels([])\n",
    "    ax.set_yticks([])\n",
    "    ax.invert_yaxis()\n",
    "axes[-1].set_xlabel('Storage (GB)')\n",
    "# axes[0].legend()\n",
    "fig.legend(handles=[\n",
    "    Patch(facecolor='darkorange', label='scNT'),\n",
    "    Patch(facecolor='royalblue', label='Dynast'),\n",
    "    Patch(facecolor='cornflowerblue', label='*Dynast')\n",
    "])\n",
    "fig.supylabel('Sample', y=0.6)\n",
    "fig.savefig('figures/scNT_storage.pdf', bbox_inches='tight')\n",
    "fig.savefig('figures/scNT_storage.png', bbox_inches='tight', dpi=300)"
   ]
  },
  {
   "cell_type": "code",
   "execution_count": 771,
   "id": "0a2c4b50-6962-4fc6-8172-c01d05613d85",
   "metadata": {},
   "outputs": [],
   "source": [
    "scNT_storage = results[results['pipeline'] == 'scNT'].groupby('accession')['storage'].sum()\n",
    "dynast_storage = results[\n",
    "    (results['pipeline'] == 'dynast') & (~results['step'].str.endswith('_filter'))\n",
    "].groupby('accession')['storage'].sum()\n",
    "dynast_filter_storage = results[\n",
    "    (results['pipeline'] == 'dynast') & ((results['step'].str.endswith('_filter')) | (results['step'] == 'align'))\n",
    "].groupby('accession')['storage'].sum()"
   ]
  },
  {
   "cell_type": "code",
   "execution_count": 772,
   "id": "fb2e769a-1b43-4928-a89b-fc4273a11dd9",
   "metadata": {},
   "outputs": [
    {
     "name": "stdout",
     "output_type": "stream",
     "text": [
      "accession\n",
      "SRR11683967    93.209408\n",
      "SRR11683968    93.317690\n",
      "SRR11683969    93.655140\n",
      "SRR11683970    93.234820\n",
      "SRR11683971    91.942556\n",
      "SRR12225122    94.671968\n",
      "Name: storage, dtype: float64\n",
      "Average space improvement: 93.3385969921186\n"
     ]
    }
   ],
   "source": [
    "# Percent saved\n",
    "storage = (scNT_storage - dynast_storage) / scNT_storage * 100\n",
    "print(storage)\n",
    "print(f'Average space improvement: {storage.mean()}')"
   ]
  },
  {
   "cell_type": "code",
   "execution_count": 773,
   "id": "4109efe2-a3a8-40c7-a6b9-6e2d8e8bfbeb",
   "metadata": {},
   "outputs": [
    {
     "name": "stdout",
     "output_type": "stream",
     "text": [
      "accession\n",
      "SRR11683967    95.127242\n",
      "SRR11683968    95.057447\n",
      "SRR11683969    95.520749\n",
      "SRR11683970    94.894665\n",
      "SRR11683971    94.340874\n",
      "SRR12225122    95.420638\n",
      "Name: storage, dtype: float64\n",
      "Average space improvement: 95.06026895667553\n"
     ]
    }
   ],
   "source": [
    "# Percent saved (filter)\n",
    "storage = (scNT_storage - dynast_filter_storage) / scNT_storage * 100\n",
    "print(storage)\n",
    "print(f'Average space improvement: {storage.mean()}')"
   ]
  },
  {
   "cell_type": "code",
   "execution_count": null,
   "id": "33607048-ef46-4792-b5d2-130f28345419",
   "metadata": {},
   "outputs": [],
   "source": []
  }
 ],
 "metadata": {
  "kernelspec": {
   "display_name": "Python 3 (ipykernel)",
   "language": "python",
   "name": "python3"
  },
  "language_info": {
   "codemirror_mode": {
    "name": "ipython",
    "version": 3
   },
   "file_extension": ".py",
   "mimetype": "text/x-python",
   "name": "python",
   "nbconvert_exporter": "python",
   "pygments_lexer": "ipython3",
   "version": "3.8.5"
  }
 },
 "nbformat": 4,
 "nbformat_minor": 5
}
